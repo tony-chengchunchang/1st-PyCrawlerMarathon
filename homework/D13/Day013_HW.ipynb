{
 "cells": [
  {
   "cell_type": "markdown",
   "metadata": {},
   "source": [
    "# PTT 網路爬蟲實作練習\n",
    "\n",
    "\n",
    "* 能夠利用 Request + BeatifulSour 撰寫爬蟲，並存放到合適的資料結構\n"
   ]
  },
  {
   "cell_type": "markdown",
   "metadata": {},
   "source": [
    "## 作業目標\n",
    "\n",
    "根據範例 ，完成以下問題：\n",
    "\n",
    "* ① 印出最新文章的「作者」「標題」「時間」\n",
    "* ② 印出第一頁所有文章的「作者」「標題」「時間」\n"
   ]
  },
  {
   "cell_type": "markdown",
   "metadata": {},
   "source": [
    "### ① 印出最新文章的「作者」「標題」「時間」"
   ]
  },
  {
   "cell_type": "code",
   "execution_count": 1,
   "metadata": {},
   "outputs": [],
   "source": [
    "import requests\n",
    "from bs4 import BeautifulSoup"
   ]
  },
  {
   "cell_type": "code",
   "execution_count": 2,
   "metadata": {},
   "outputs": [],
   "source": [
    "url = 'https://www.ptt.cc/bbs/NBA/index.html'\n",
    "\n",
    "r = requests.get(url)\n",
    "soup = BeautifulSoup(r.text)"
   ]
  },
  {
   "cell_type": "code",
   "execution_count": 19,
   "metadata": {},
   "outputs": [
    {
     "data": {
      "text/plain": [
       "[<div class=\"r-ent\">\n",
       " <div class=\"nrec\"><span class=\"hl f3\">23</span></div>\n",
       " <div class=\"title\">\n",
       " <a href=\"/bbs/NBA/M.1580610612.A.962.html\">[BOX ] Knicks 92:85 Pacers 數據</a>\n",
       " </div>\n",
       " <div class=\"meta\">\n",
       " <div class=\"author\">Rambo</div>\n",
       " <div class=\"article-menu\">\n",
       " <div class=\"trigger\">⋯</div>\n",
       " <div class=\"dropdown\">\n",
       " <div class=\"item\"><a href=\"/bbs/NBA/search?q=thread%3A%5BBOX+%5D+Knicks+92%3A85+Pacers+%E6%95%B8%E6%93%9A\">搜尋同標題文章</a></div>\n",
       " <div class=\"item\"><a href=\"/bbs/NBA/search?q=author%3ARambo\">搜尋看板內 Rambo 的文章</a></div>\n",
       " </div>\n",
       " </div>\n",
       " <div class=\"date\"> 2/02</div>\n",
       " <div class=\"mark\"></div>\n",
       " </div>\n",
       " </div>, <div class=\"r-ent\">\n",
       " <div class=\"nrec\"><span class=\"hl f2\">7</span></div>\n",
       " <div class=\"title\">\n",
       " <a href=\"/bbs/NBA/M.1580612402.A.DFF.html\">[Live] 爵士 @ 拓荒者</a>\n",
       " </div>\n",
       " <div class=\"meta\">\n",
       " <div class=\"author\">Rambo</div>\n",
       " <div class=\"article-menu\">\n",
       " <div class=\"trigger\">⋯</div>\n",
       " <div class=\"dropdown\">\n",
       " <div class=\"item\"><a href=\"/bbs/NBA/search?q=thread%3A%5BLive%5D+%E7%88%B5%E5%A3%AB+%40+%E6%8B%93%E8%8D%92%E8%80%85\">搜尋同標題文章</a></div>\n",
       " <div class=\"item\"><a href=\"/bbs/NBA/search?q=author%3ARambo\">搜尋看板內 Rambo 的文章</a></div>\n",
       " </div>\n",
       " </div>\n",
       " <div class=\"date\"> 2/02</div>\n",
       " <div class=\"mark\"></div>\n",
       " </div>\n",
       " </div>, <div class=\"r-ent\">\n",
       " <div class=\"nrec\"><span class=\"hl f3\">47</span></div>\n",
       " <div class=\"title\">\n",
       " <a href=\"/bbs/NBA/M.1580613279.A.408.html\">[BOX ] Warriors 131:112 Cavaliers 數據</a>\n",
       " </div>\n",
       " <div class=\"meta\">\n",
       " <div class=\"author\">Rambo</div>\n",
       " <div class=\"article-menu\">\n",
       " <div class=\"trigger\">⋯</div>\n",
       " <div class=\"dropdown\">\n",
       " <div class=\"item\"><a href=\"/bbs/NBA/search?q=thread%3A%5BBOX+%5D+Warriors+131%3A112+Cavaliers+%E6%95%B8%E6%93%9A\">搜尋同標題文章</a></div>\n",
       " <div class=\"item\"><a href=\"/bbs/NBA/search?q=author%3ARambo\">搜尋看板內 Rambo 的文章</a></div>\n",
       " </div>\n",
       " </div>\n",
       " <div class=\"date\"> 2/02</div>\n",
       " <div class=\"mark\"></div>\n",
       " </div>\n",
       " </div>, <div class=\"r-ent\">\n",
       " <div class=\"nrec\"><span class=\"hl f2\">6</span></div>\n",
       " <div class=\"title\">\n",
       " <a href=\"/bbs/NBA/M.1580614253.A.9DE.html\">[BOX ] Nets 107:113 Wizards 數據</a>\n",
       " </div>\n",
       " <div class=\"meta\">\n",
       " <div class=\"author\">Rambo</div>\n",
       " <div class=\"article-menu\">\n",
       " <div class=\"trigger\">⋯</div>\n",
       " <div class=\"dropdown\">\n",
       " <div class=\"item\"><a href=\"/bbs/NBA/search?q=thread%3A%5BBOX+%5D+Nets+107%3A113+Wizards+%E6%95%B8%E6%93%9A\">搜尋同標題文章</a></div>\n",
       " <div class=\"item\"><a href=\"/bbs/NBA/search?q=author%3ARambo\">搜尋看板內 Rambo 的文章</a></div>\n",
       " </div>\n",
       " </div>\n",
       " <div class=\"date\"> 2/02</div>\n",
       " <div class=\"mark\"></div>\n",
       " </div>\n",
       " </div>, <div class=\"r-ent\">\n",
       " <div class=\"nrec\"></div>\n",
       " <div class=\"title\">\n",
       " <a href=\"/bbs/NBA/M.1558698194.A.1DC.html\">[公告] 板規v6.8</a>\n",
       " </div>\n",
       " <div class=\"meta\">\n",
       " <div class=\"author\">Vedan</div>\n",
       " <div class=\"article-menu\">\n",
       " <div class=\"trigger\">⋯</div>\n",
       " <div class=\"dropdown\">\n",
       " <div class=\"item\"><a href=\"/bbs/NBA/search?q=thread%3A%5B%E5%85%AC%E5%91%8A%5D+%E6%9D%BF%E8%A6%8Fv6.8\">搜尋同標題文章</a></div>\n",
       " <div class=\"item\"><a href=\"/bbs/NBA/search?q=author%3AVedan\">搜尋看板內 Vedan 的文章</a></div>\n",
       " </div>\n",
       " </div>\n",
       " <div class=\"date\"> 5/24</div>\n",
       " <div class=\"mark\">!</div>\n",
       " </div>\n",
       " </div>, <div class=\"r-ent\">\n",
       " <div class=\"nrec\"><span class=\"hl f1\">爆</span></div>\n",
       " <div class=\"title\">\n",
       " <a href=\"/bbs/NBA/M.1561360084.A.52D.html\">[公告] 樂透取消及未來不再開啟樂透</a>\n",
       " </div>\n",
       " <div class=\"meta\">\n",
       " <div class=\"author\">Vedan</div>\n",
       " <div class=\"article-menu\">\n",
       " <div class=\"trigger\">⋯</div>\n",
       " <div class=\"dropdown\">\n",
       " <div class=\"item\"><a href=\"/bbs/NBA/search?q=thread%3A%5B%E5%85%AC%E5%91%8A%5D+%E6%A8%82%E9%80%8F%E5%8F%96%E6%B6%88%E5%8F%8A%E6%9C%AA%E4%BE%86%E4%B8%8D%E5%86%8D%E9%96%8B%E5%95%9F%E6%A8%82%E9%80%8F\">搜尋同標題文章</a></div>\n",
       " <div class=\"item\"><a href=\"/bbs/NBA/search?q=author%3AVedan\">搜尋看板內 Vedan 的文章</a></div>\n",
       " </div>\n",
       " </div>\n",
       " <div class=\"date\"> 6/24</div>\n",
       " <div class=\"mark\">M</div>\n",
       " </div>\n",
       " </div>, <div class=\"r-ent\">\n",
       " <div class=\"nrec\"><span class=\"hl f3\">38</span></div>\n",
       " <div class=\"title\">\n",
       " <a href=\"/bbs/NBA/M.1571971445.A.8A8.html\">[公告] 版主上任相關事項 </a>\n",
       " </div>\n",
       " <div class=\"meta\">\n",
       " <div class=\"author\">qazwsx879345</div>\n",
       " <div class=\"article-menu\">\n",
       " <div class=\"trigger\">⋯</div>\n",
       " <div class=\"dropdown\">\n",
       " <div class=\"item\"><a href=\"/bbs/NBA/search?q=thread%3A%5B%E5%85%AC%E5%91%8A%5D+%E7%89%88%E4%B8%BB%E4%B8%8A%E4%BB%BB%E7%9B%B8%E9%97%9C%E4%BA%8B%E9%A0%85+\">搜尋同標題文章</a></div>\n",
       " <div class=\"item\"><a href=\"/bbs/NBA/search?q=author%3Aqazwsx879345\">搜尋看板內 qazwsx879345 的文章</a></div>\n",
       " </div>\n",
       " </div>\n",
       " <div class=\"date\">10/25</div>\n",
       " <div class=\"mark\"></div>\n",
       " </div>\n",
       " </div>, <div class=\"r-ent\">\n",
       " <div class=\"nrec\"><span class=\"hl f0\">XX</span></div>\n",
       " <div class=\"title\">\n",
       " <a href=\"/bbs/NBA/M.1580069305.A.A07.html\">[公告] 難過區</a>\n",
       " </div>\n",
       " <div class=\"meta\">\n",
       " <div class=\"author\">Vedan</div>\n",
       " <div class=\"article-menu\">\n",
       " <div class=\"trigger\">⋯</div>\n",
       " <div class=\"dropdown\">\n",
       " <div class=\"item\"><a href=\"/bbs/NBA/search?q=thread%3A%5B%E5%85%AC%E5%91%8A%5D+%E9%9B%A3%E9%81%8E%E5%8D%80\">搜尋同標題文章</a></div>\n",
       " <div class=\"item\"><a href=\"/bbs/NBA/search?q=author%3AVedan\">搜尋看板內 Vedan 的文章</a></div>\n",
       " </div>\n",
       " </div>\n",
       " <div class=\"date\"> 1/27</div>\n",
       " <div class=\"mark\">M</div>\n",
       " </div>\n",
       " </div>, <div class=\"r-ent\">\n",
       " <div class=\"nrec\"><span class=\"hl f3\">12</span></div>\n",
       " <div class=\"title\">\n",
       " <a href=\"/bbs/NBA/M.1580481409.A.8E1.html\">[情報] SEASON Schedule 賽程 February 19–20</a>\n",
       " </div>\n",
       " <div class=\"meta\">\n",
       " <div class=\"author\">Acetoxy</div>\n",
       " <div class=\"article-menu\">\n",
       " <div class=\"trigger\">⋯</div>\n",
       " <div class=\"dropdown\">\n",
       " <div class=\"item\"><a href=\"/bbs/NBA/search?q=thread%3A%5B%E6%83%85%E5%A0%B1%5D+SEASON+Schedule+%E8%B3%BD%E7%A8%8B+February+19%E2%80%9320\">搜尋同標題文章</a></div>\n",
       " <div class=\"item\"><a href=\"/bbs/NBA/search?q=author%3AAcetoxy\">搜尋看板內 Acetoxy 的文章</a></div>\n",
       " </div>\n",
       " </div>\n",
       " <div class=\"date\"> 1/31</div>\n",
       " <div class=\"mark\"></div>\n",
       " </div>\n",
       " </div>]"
      ]
     },
     "execution_count": 19,
     "metadata": {},
     "output_type": "execute_result"
    }
   ],
   "source": [
    "soup.find_all(class_='r-ent')"
   ]
  },
  {
   "cell_type": "code",
   "execution_count": 17,
   "metadata": {},
   "outputs": [
    {
     "name": "stdout",
     "output_type": "stream",
     "text": [
      "Rambo\n",
      "[BOX ] Knicks 92:85 Pacers 數據\n",
      " 2/02\n",
      "Rambo\n",
      "[Live] 爵士 @ 拓荒者\n",
      " 2/02\n",
      "Rambo\n",
      "[BOX ] Warriors 131:112 Cavaliers 數據\n",
      " 2/02\n",
      "Rambo\n",
      "[BOX ] Nets 107:113 Wizards 數據\n",
      " 2/02\n",
      "Vedan\n",
      "[公告] 板規v6.8\n",
      " 5/24\n",
      "Vedan\n",
      "[公告] 樂透取消及未來不再開啟樂透\n",
      " 6/24\n",
      "qazwsx879345\n",
      "[公告] 版主上任相關事項 \n",
      "10/25\n",
      "Vedan\n",
      "[公告] 難過區\n",
      " 1/27\n",
      "Acetoxy\n",
      "[情報] SEASON Schedule 賽程 February 19–20\n",
      " 1/31\n"
     ]
    }
   ],
   "source": [
    "for d in soup.find_all(class_='r-ent'):\n",
    "    print(d.find(class_='author').text)\n",
    "    print(d.find(class_='title').find('a').text)\n",
    "    print(d.find(class_='date').text)"
   ]
  },
  {
   "cell_type": "code",
   "execution_count": 25,
   "metadata": {},
   "outputs": [
    {
     "name": "stdout",
     "output_type": "stream",
     "text": [
      "Rambo\n",
      "[BOX ] Nets 107:113 Wizards 數據\n",
      " 2/02\n",
      "Rambo\n",
      "[BOX ] Warriors 131:112 Cavaliers 數據\n",
      " 2/02\n",
      "Rambo\n",
      "[Live] 爵士 @ 拓荒者\n",
      " 2/02\n",
      "Rambo\n",
      "[BOX ] Knicks 92:85 Pacers 數據\n",
      " 2/02\n"
     ]
    }
   ],
   "source": [
    "# Normal posts only\n",
    "split_line = soup.find(class_='r-list-sep')\n",
    "for d in split_line.find_all_previous(class_='r-ent'):\n",
    "    print(d.find(class_='author').text)\n",
    "    print(d.find(class_='title').find('a').text)\n",
    "    print(d.find(class_='date').text)"
   ]
  },
  {
   "cell_type": "code",
   "execution_count": null,
   "metadata": {},
   "outputs": [],
   "source": []
  },
  {
   "cell_type": "code",
   "execution_count": null,
   "metadata": {},
   "outputs": [],
   "source": []
  },
  {
   "cell_type": "code",
   "execution_count": null,
   "metadata": {},
   "outputs": [],
   "source": []
  },
  {
   "cell_type": "markdown",
   "metadata": {},
   "source": [
    "### ② 印出第一頁所有文章的「作者」「標題」「時間」"
   ]
  },
  {
   "cell_type": "code",
   "execution_count": null,
   "metadata": {},
   "outputs": [],
   "source": [
    "'''\n",
    "Your Code\n",
    "'''"
   ]
  },
  {
   "cell_type": "markdown",
   "metadata": {},
   "source": [
    "### ③ 試著爬爬看其他版的文章"
   ]
  },
  {
   "cell_type": "code",
   "execution_count": null,
   "metadata": {},
   "outputs": [],
   "source": [
    "'''\n",
    "Your Code\n",
    "'''"
   ]
  }
 ],
 "metadata": {
  "kernelspec": {
   "display_name": "Python 3",
   "language": "python",
   "name": "python3"
  },
  "language_info": {
   "codemirror_mode": {
    "name": "ipython",
    "version": 3
   },
   "file_extension": ".py",
   "mimetype": "text/x-python",
   "name": "python",
   "nbconvert_exporter": "python",
   "pygments_lexer": "ipython3",
   "version": "3.7.6"
  }
 },
 "nbformat": 4,
 "nbformat_minor": 2
}
